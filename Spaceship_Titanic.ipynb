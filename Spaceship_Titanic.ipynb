{
 "cells": [
  {
   "cell_type": "markdown",
   "source": [
    "# **필요한 라이브러리 불러오기**\n",
    "***"
   ],
   "metadata": {
    "collapsed": false
   },
   "id": "65c663ca346ab1b8"
  },
  {
   "cell_type": "code",
   "outputs": [],
   "source": [
    "import pandas as pd\n",
    "import numpy as np\n",
    "import matplotlib.pyplot as plt\n",
    "import seaborn as sns"
   ],
   "metadata": {
    "collapsed": false,
    "ExecuteTime": {
     "end_time": "2024-02-27T08:55:43.452458200Z",
     "start_time": "2024-02-27T08:55:43.444455500Z"
    }
   },
   "id": "44a3a5d6e2b57f44",
   "execution_count": 358
  },
  {
   "cell_type": "markdown",
   "source": [
    "# **Dataset 불러오기**\n",
    "***"
   ],
   "metadata": {
    "collapsed": false
   },
   "id": "51d87893976e3f03"
  },
  {
   "cell_type": "code",
   "outputs": [],
   "source": [
    "train = pd.read_csv('./train.csv')\n",
    "test = pd.read_csv('./test.csv')"
   ],
   "metadata": {
    "collapsed": false,
    "ExecuteTime": {
     "end_time": "2024-02-27T08:55:43.483258600Z",
     "start_time": "2024-02-27T08:55:43.454457700Z"
    }
   },
   "id": "384c70017b3ee25b",
   "execution_count": 359
  },
  {
   "cell_type": "code",
   "outputs": [
    {
     "data": {
      "text/plain": "     PassengerId HomePlanet CryoSleep     Cabin    Destination   Age    VIP  \\\n0        0001_01     Europa     False     B/0/P    TRAPPIST-1e  39.0  False   \n1        0002_01      Earth     False     F/0/S    TRAPPIST-1e  24.0  False   \n2        0003_01     Europa     False     A/0/S    TRAPPIST-1e  58.0   True   \n3        0003_02     Europa     False     A/0/S    TRAPPIST-1e  33.0  False   \n4        0004_01      Earth     False     F/1/S    TRAPPIST-1e  16.0  False   \n...          ...        ...       ...       ...            ...   ...    ...   \n8688     9276_01     Europa     False    A/98/P    55 Cancri e  41.0   True   \n8689     9278_01      Earth      True  G/1499/S  PSO J318.5-22  18.0  False   \n8690     9279_01      Earth     False  G/1500/S    TRAPPIST-1e  26.0  False   \n8691     9280_01     Europa     False   E/608/S    55 Cancri e  32.0  False   \n8692     9280_02     Europa     False   E/608/S    TRAPPIST-1e  44.0  False   \n\n      RoomService  FoodCourt  ShoppingMall     Spa  VRDeck               Name  \\\n0             0.0        0.0           0.0     0.0     0.0    Maham Ofracculy   \n1           109.0        9.0          25.0   549.0    44.0       Juanna Vines   \n2            43.0     3576.0           0.0  6715.0    49.0      Altark Susent   \n3             0.0     1283.0         371.0  3329.0   193.0       Solam Susent   \n4           303.0       70.0         151.0   565.0     2.0  Willy Santantines   \n...           ...        ...           ...     ...     ...                ...   \n8688          0.0     6819.0           0.0  1643.0    74.0  Gravior Noxnuther   \n8689          0.0        0.0           0.0     0.0     0.0    Kurta Mondalley   \n8690          0.0        0.0        1872.0     1.0     0.0       Fayey Connon   \n8691          0.0     1049.0           0.0   353.0  3235.0   Celeon Hontichre   \n8692        126.0     4688.0           0.0     0.0    12.0   Propsh Hontichre   \n\n      Transported  \n0           False  \n1            True  \n2           False  \n3           False  \n4            True  \n...           ...  \n8688        False  \n8689        False  \n8690         True  \n8691        False  \n8692         True  \n\n[8693 rows x 14 columns]",
      "text/html": "<div>\n<style scoped>\n    .dataframe tbody tr th:only-of-type {\n        vertical-align: middle;\n    }\n\n    .dataframe tbody tr th {\n        vertical-align: top;\n    }\n\n    .dataframe thead th {\n        text-align: right;\n    }\n</style>\n<table border=\"1\" class=\"dataframe\">\n  <thead>\n    <tr style=\"text-align: right;\">\n      <th></th>\n      <th>PassengerId</th>\n      <th>HomePlanet</th>\n      <th>CryoSleep</th>\n      <th>Cabin</th>\n      <th>Destination</th>\n      <th>Age</th>\n      <th>VIP</th>\n      <th>RoomService</th>\n      <th>FoodCourt</th>\n      <th>ShoppingMall</th>\n      <th>Spa</th>\n      <th>VRDeck</th>\n      <th>Name</th>\n      <th>Transported</th>\n    </tr>\n  </thead>\n  <tbody>\n    <tr>\n      <th>0</th>\n      <td>0001_01</td>\n      <td>Europa</td>\n      <td>False</td>\n      <td>B/0/P</td>\n      <td>TRAPPIST-1e</td>\n      <td>39.0</td>\n      <td>False</td>\n      <td>0.0</td>\n      <td>0.0</td>\n      <td>0.0</td>\n      <td>0.0</td>\n      <td>0.0</td>\n      <td>Maham Ofracculy</td>\n      <td>False</td>\n    </tr>\n    <tr>\n      <th>1</th>\n      <td>0002_01</td>\n      <td>Earth</td>\n      <td>False</td>\n      <td>F/0/S</td>\n      <td>TRAPPIST-1e</td>\n      <td>24.0</td>\n      <td>False</td>\n      <td>109.0</td>\n      <td>9.0</td>\n      <td>25.0</td>\n      <td>549.0</td>\n      <td>44.0</td>\n      <td>Juanna Vines</td>\n      <td>True</td>\n    </tr>\n    <tr>\n      <th>2</th>\n      <td>0003_01</td>\n      <td>Europa</td>\n      <td>False</td>\n      <td>A/0/S</td>\n      <td>TRAPPIST-1e</td>\n      <td>58.0</td>\n      <td>True</td>\n      <td>43.0</td>\n      <td>3576.0</td>\n      <td>0.0</td>\n      <td>6715.0</td>\n      <td>49.0</td>\n      <td>Altark Susent</td>\n      <td>False</td>\n    </tr>\n    <tr>\n      <th>3</th>\n      <td>0003_02</td>\n      <td>Europa</td>\n      <td>False</td>\n      <td>A/0/S</td>\n      <td>TRAPPIST-1e</td>\n      <td>33.0</td>\n      <td>False</td>\n      <td>0.0</td>\n      <td>1283.0</td>\n      <td>371.0</td>\n      <td>3329.0</td>\n      <td>193.0</td>\n      <td>Solam Susent</td>\n      <td>False</td>\n    </tr>\n    <tr>\n      <th>4</th>\n      <td>0004_01</td>\n      <td>Earth</td>\n      <td>False</td>\n      <td>F/1/S</td>\n      <td>TRAPPIST-1e</td>\n      <td>16.0</td>\n      <td>False</td>\n      <td>303.0</td>\n      <td>70.0</td>\n      <td>151.0</td>\n      <td>565.0</td>\n      <td>2.0</td>\n      <td>Willy Santantines</td>\n      <td>True</td>\n    </tr>\n    <tr>\n      <th>...</th>\n      <td>...</td>\n      <td>...</td>\n      <td>...</td>\n      <td>...</td>\n      <td>...</td>\n      <td>...</td>\n      <td>...</td>\n      <td>...</td>\n      <td>...</td>\n      <td>...</td>\n      <td>...</td>\n      <td>...</td>\n      <td>...</td>\n      <td>...</td>\n    </tr>\n    <tr>\n      <th>8688</th>\n      <td>9276_01</td>\n      <td>Europa</td>\n      <td>False</td>\n      <td>A/98/P</td>\n      <td>55 Cancri e</td>\n      <td>41.0</td>\n      <td>True</td>\n      <td>0.0</td>\n      <td>6819.0</td>\n      <td>0.0</td>\n      <td>1643.0</td>\n      <td>74.0</td>\n      <td>Gravior Noxnuther</td>\n      <td>False</td>\n    </tr>\n    <tr>\n      <th>8689</th>\n      <td>9278_01</td>\n      <td>Earth</td>\n      <td>True</td>\n      <td>G/1499/S</td>\n      <td>PSO J318.5-22</td>\n      <td>18.0</td>\n      <td>False</td>\n      <td>0.0</td>\n      <td>0.0</td>\n      <td>0.0</td>\n      <td>0.0</td>\n      <td>0.0</td>\n      <td>Kurta Mondalley</td>\n      <td>False</td>\n    </tr>\n    <tr>\n      <th>8690</th>\n      <td>9279_01</td>\n      <td>Earth</td>\n      <td>False</td>\n      <td>G/1500/S</td>\n      <td>TRAPPIST-1e</td>\n      <td>26.0</td>\n      <td>False</td>\n      <td>0.0</td>\n      <td>0.0</td>\n      <td>1872.0</td>\n      <td>1.0</td>\n      <td>0.0</td>\n      <td>Fayey Connon</td>\n      <td>True</td>\n    </tr>\n    <tr>\n      <th>8691</th>\n      <td>9280_01</td>\n      <td>Europa</td>\n      <td>False</td>\n      <td>E/608/S</td>\n      <td>55 Cancri e</td>\n      <td>32.0</td>\n      <td>False</td>\n      <td>0.0</td>\n      <td>1049.0</td>\n      <td>0.0</td>\n      <td>353.0</td>\n      <td>3235.0</td>\n      <td>Celeon Hontichre</td>\n      <td>False</td>\n    </tr>\n    <tr>\n      <th>8692</th>\n      <td>9280_02</td>\n      <td>Europa</td>\n      <td>False</td>\n      <td>E/608/S</td>\n      <td>TRAPPIST-1e</td>\n      <td>44.0</td>\n      <td>False</td>\n      <td>126.0</td>\n      <td>4688.0</td>\n      <td>0.0</td>\n      <td>0.0</td>\n      <td>12.0</td>\n      <td>Propsh Hontichre</td>\n      <td>True</td>\n    </tr>\n  </tbody>\n</table>\n<p>8693 rows × 14 columns</p>\n</div>"
     },
     "execution_count": 360,
     "metadata": {},
     "output_type": "execute_result"
    }
   ],
   "source": [
    "train"
   ],
   "metadata": {
    "collapsed": false,
    "ExecuteTime": {
     "end_time": "2024-02-27T08:55:43.491735200Z",
     "start_time": "2024-02-27T08:55:43.489227300Z"
    }
   },
   "id": "63c85bbd4e778a4e",
   "execution_count": 360
  },
  {
   "cell_type": "code",
   "outputs": [
    {
     "data": {
      "text/plain": "     PassengerId HomePlanet CryoSleep     Cabin    Destination   Age    VIP  \\\n0        0013_01      Earth      True     G/3/S    TRAPPIST-1e  27.0  False   \n1        0018_01      Earth     False     F/4/S    TRAPPIST-1e  19.0  False   \n2        0019_01     Europa      True     C/0/S    55 Cancri e  31.0  False   \n3        0021_01     Europa     False     C/1/S    TRAPPIST-1e  38.0  False   \n4        0023_01      Earth     False     F/5/S    TRAPPIST-1e  20.0  False   \n...          ...        ...       ...       ...            ...   ...    ...   \n4272     9266_02      Earth      True  G/1496/S    TRAPPIST-1e  34.0  False   \n4273     9269_01      Earth     False       NaN    TRAPPIST-1e  42.0  False   \n4274     9271_01       Mars      True   D/296/P    55 Cancri e   NaN  False   \n4275     9273_01     Europa     False   D/297/P            NaN   NaN  False   \n4276     9277_01      Earth      True  G/1498/S  PSO J318.5-22  43.0  False   \n\n      RoomService  FoodCourt  ShoppingMall     Spa  VRDeck              Name  \n0             0.0        0.0           0.0     0.0     0.0   Nelly Carsoning  \n1             0.0        9.0           0.0  2823.0     0.0    Lerome Peckers  \n2             0.0        0.0           0.0     0.0     0.0   Sabih Unhearfus  \n3             0.0     6652.0           0.0   181.0   585.0  Meratz Caltilter  \n4            10.0        0.0         635.0     0.0     0.0   Brence Harperez  \n...           ...        ...           ...     ...     ...               ...  \n4272          0.0        0.0           0.0     0.0     0.0       Jeron Peter  \n4273          0.0      847.0          17.0    10.0   144.0     Matty Scheron  \n4274          0.0        0.0           0.0     0.0     0.0       Jayrin Pore  \n4275          0.0     2680.0           0.0     0.0   523.0    Kitakan Conale  \n4276          0.0        0.0           0.0     0.0     0.0  Lilace Leonzaley  \n\n[4277 rows x 13 columns]",
      "text/html": "<div>\n<style scoped>\n    .dataframe tbody tr th:only-of-type {\n        vertical-align: middle;\n    }\n\n    .dataframe tbody tr th {\n        vertical-align: top;\n    }\n\n    .dataframe thead th {\n        text-align: right;\n    }\n</style>\n<table border=\"1\" class=\"dataframe\">\n  <thead>\n    <tr style=\"text-align: right;\">\n      <th></th>\n      <th>PassengerId</th>\n      <th>HomePlanet</th>\n      <th>CryoSleep</th>\n      <th>Cabin</th>\n      <th>Destination</th>\n      <th>Age</th>\n      <th>VIP</th>\n      <th>RoomService</th>\n      <th>FoodCourt</th>\n      <th>ShoppingMall</th>\n      <th>Spa</th>\n      <th>VRDeck</th>\n      <th>Name</th>\n    </tr>\n  </thead>\n  <tbody>\n    <tr>\n      <th>0</th>\n      <td>0013_01</td>\n      <td>Earth</td>\n      <td>True</td>\n      <td>G/3/S</td>\n      <td>TRAPPIST-1e</td>\n      <td>27.0</td>\n      <td>False</td>\n      <td>0.0</td>\n      <td>0.0</td>\n      <td>0.0</td>\n      <td>0.0</td>\n      <td>0.0</td>\n      <td>Nelly Carsoning</td>\n    </tr>\n    <tr>\n      <th>1</th>\n      <td>0018_01</td>\n      <td>Earth</td>\n      <td>False</td>\n      <td>F/4/S</td>\n      <td>TRAPPIST-1e</td>\n      <td>19.0</td>\n      <td>False</td>\n      <td>0.0</td>\n      <td>9.0</td>\n      <td>0.0</td>\n      <td>2823.0</td>\n      <td>0.0</td>\n      <td>Lerome Peckers</td>\n    </tr>\n    <tr>\n      <th>2</th>\n      <td>0019_01</td>\n      <td>Europa</td>\n      <td>True</td>\n      <td>C/0/S</td>\n      <td>55 Cancri e</td>\n      <td>31.0</td>\n      <td>False</td>\n      <td>0.0</td>\n      <td>0.0</td>\n      <td>0.0</td>\n      <td>0.0</td>\n      <td>0.0</td>\n      <td>Sabih Unhearfus</td>\n    </tr>\n    <tr>\n      <th>3</th>\n      <td>0021_01</td>\n      <td>Europa</td>\n      <td>False</td>\n      <td>C/1/S</td>\n      <td>TRAPPIST-1e</td>\n      <td>38.0</td>\n      <td>False</td>\n      <td>0.0</td>\n      <td>6652.0</td>\n      <td>0.0</td>\n      <td>181.0</td>\n      <td>585.0</td>\n      <td>Meratz Caltilter</td>\n    </tr>\n    <tr>\n      <th>4</th>\n      <td>0023_01</td>\n      <td>Earth</td>\n      <td>False</td>\n      <td>F/5/S</td>\n      <td>TRAPPIST-1e</td>\n      <td>20.0</td>\n      <td>False</td>\n      <td>10.0</td>\n      <td>0.0</td>\n      <td>635.0</td>\n      <td>0.0</td>\n      <td>0.0</td>\n      <td>Brence Harperez</td>\n    </tr>\n    <tr>\n      <th>...</th>\n      <td>...</td>\n      <td>...</td>\n      <td>...</td>\n      <td>...</td>\n      <td>...</td>\n      <td>...</td>\n      <td>...</td>\n      <td>...</td>\n      <td>...</td>\n      <td>...</td>\n      <td>...</td>\n      <td>...</td>\n      <td>...</td>\n    </tr>\n    <tr>\n      <th>4272</th>\n      <td>9266_02</td>\n      <td>Earth</td>\n      <td>True</td>\n      <td>G/1496/S</td>\n      <td>TRAPPIST-1e</td>\n      <td>34.0</td>\n      <td>False</td>\n      <td>0.0</td>\n      <td>0.0</td>\n      <td>0.0</td>\n      <td>0.0</td>\n      <td>0.0</td>\n      <td>Jeron Peter</td>\n    </tr>\n    <tr>\n      <th>4273</th>\n      <td>9269_01</td>\n      <td>Earth</td>\n      <td>False</td>\n      <td>NaN</td>\n      <td>TRAPPIST-1e</td>\n      <td>42.0</td>\n      <td>False</td>\n      <td>0.0</td>\n      <td>847.0</td>\n      <td>17.0</td>\n      <td>10.0</td>\n      <td>144.0</td>\n      <td>Matty Scheron</td>\n    </tr>\n    <tr>\n      <th>4274</th>\n      <td>9271_01</td>\n      <td>Mars</td>\n      <td>True</td>\n      <td>D/296/P</td>\n      <td>55 Cancri e</td>\n      <td>NaN</td>\n      <td>False</td>\n      <td>0.0</td>\n      <td>0.0</td>\n      <td>0.0</td>\n      <td>0.0</td>\n      <td>0.0</td>\n      <td>Jayrin Pore</td>\n    </tr>\n    <tr>\n      <th>4275</th>\n      <td>9273_01</td>\n      <td>Europa</td>\n      <td>False</td>\n      <td>D/297/P</td>\n      <td>NaN</td>\n      <td>NaN</td>\n      <td>False</td>\n      <td>0.0</td>\n      <td>2680.0</td>\n      <td>0.0</td>\n      <td>0.0</td>\n      <td>523.0</td>\n      <td>Kitakan Conale</td>\n    </tr>\n    <tr>\n      <th>4276</th>\n      <td>9277_01</td>\n      <td>Earth</td>\n      <td>True</td>\n      <td>G/1498/S</td>\n      <td>PSO J318.5-22</td>\n      <td>43.0</td>\n      <td>False</td>\n      <td>0.0</td>\n      <td>0.0</td>\n      <td>0.0</td>\n      <td>0.0</td>\n      <td>0.0</td>\n      <td>Lilace Leonzaley</td>\n    </tr>\n  </tbody>\n</table>\n<p>4277 rows × 13 columns</p>\n</div>"
     },
     "execution_count": 361,
     "metadata": {},
     "output_type": "execute_result"
    }
   ],
   "source": [
    "test"
   ],
   "metadata": {
    "collapsed": false,
    "ExecuteTime": {
     "end_time": "2024-02-27T08:55:43.505719400Z",
     "start_time": "2024-02-27T08:55:43.491735200Z"
    }
   },
   "id": "a2150ba7f622c81b",
   "execution_count": 361
  },
  {
   "cell_type": "markdown",
   "source": [
    "# **Dataset 탐색하기**\n",
    "***"
   ],
   "metadata": {
    "collapsed": false
   },
   "id": "1861ded5ded50479"
  },
  {
   "cell_type": "code",
   "outputs": [
    {
     "name": "stdout",
     "output_type": "stream",
     "text": [
      "<class 'pandas.core.frame.DataFrame'>\n",
      "RangeIndex: 8693 entries, 0 to 8692\n",
      "Data columns (total 14 columns):\n",
      " #   Column        Non-Null Count  Dtype  \n",
      "---  ------        --------------  -----  \n",
      " 0   PassengerId   8693 non-null   object \n",
      " 1   HomePlanet    8492 non-null   object \n",
      " 2   CryoSleep     8476 non-null   object \n",
      " 3   Cabin         8494 non-null   object \n",
      " 4   Destination   8511 non-null   object \n",
      " 5   Age           8514 non-null   float64\n",
      " 6   VIP           8490 non-null   object \n",
      " 7   RoomService   8512 non-null   float64\n",
      " 8   FoodCourt     8510 non-null   float64\n",
      " 9   ShoppingMall  8485 non-null   float64\n",
      " 10  Spa           8510 non-null   float64\n",
      " 11  VRDeck        8505 non-null   float64\n",
      " 12  Name          8493 non-null   object \n",
      " 13  Transported   8693 non-null   bool   \n",
      "dtypes: bool(1), float64(6), object(7)\n",
      "memory usage: 891.5+ KB\n"
     ]
    }
   ],
   "source": [
    "train.info()"
   ],
   "metadata": {
    "collapsed": false,
    "ExecuteTime": {
     "end_time": "2024-02-27T08:55:43.522510500Z",
     "start_time": "2024-02-27T08:55:43.503719500Z"
    }
   },
   "id": "84fa13c08426281",
   "execution_count": 362
  },
  {
   "cell_type": "markdown",
   "source": [
    "### **의사결정**\n",
    "\n",
    "* PassengerId, Cabin은 분석을 위해 문자열을 분리\n",
    "* CryoSleep, VIP는 bool값이므로 데이터타입을 변경\n",
    "* Age는 나이이므로 int형으로 변환"
   ],
   "metadata": {
    "collapsed": false
   },
   "id": "9816e1c6768551d4"
  },
  {
   "cell_type": "markdown",
   "source": [
    "# **데이터 이해하기**\n",
    "***"
   ],
   "metadata": {
    "collapsed": false
   },
   "id": "fe8faf5da8449564"
  },
  {
   "cell_type": "markdown",
   "source": [
    "### **사용할 함수 정의**"
   ],
   "metadata": {
    "collapsed": false
   },
   "id": "d74c26053bec65c0"
  },
  {
   "cell_type": "code",
   "outputs": [],
   "source": [
    "def positive_num_split(dataframe: pd.DataFrame, col: str, div_num: int, new_col_name: str) -> pd.DataFrame:\n",
    "    \"\"\"\n",
    "    데이터 프레임에서 한 컬럼의 수를 원하는 수로 나누어서 새 데이터 프레임을 반환하는 함수\n",
    "    :param dataframe: 데이터 프레임\n",
    "    :param col: 나눌 컬럼의 이름\n",
    "    :param div_num: 나눌 숫자\n",
    "    :param new_col_name: 결과를 담을 새 컬럼의 이름\n",
    "    :return: 새로운 데이터 프레임\n",
    "    \"\"\"\n",
    "    # 음수 예외 처리 필요\n",
    "    # 데이터 프레임을 생성하는 기능, 숫자를 나누는 기능, 함수 분리 필요\n",
    "    lst = []\n",
    "    for i in dataframe[col]:\n",
    "        if pd.isna(i):\n",
    "            lst.append(None)\n",
    "        elif i >= 0:\n",
    "            range_num = int(i) // div_num\n",
    "            lst.append(f\"{range_num * div_num}-{(range_num + 1) * div_num}\")\n",
    "    return pd.DataFrame(lst, columns=[new_col_name])"
   ],
   "metadata": {
    "collapsed": false,
    "ExecuteTime": {
     "end_time": "2024-02-27T08:55:43.541123Z",
     "start_time": "2024-02-27T08:55:43.512823Z"
    }
   },
   "id": "fa9a6fee3a5b9bd",
   "execution_count": 363
  },
  {
   "cell_type": "code",
   "outputs": [],
   "source": [
    "def str_split_grouping(dataframe: pd.DataFrame, col: str, split_str: str) -> None:\n",
    "    \"\"\"\n",
    "    데이터 프레임에서 컬럼의 데이터 문자열을 문자 기준으로 분리, 기존 컬럼 삭제 후 새 컬럼들로 반환하는 함수\n",
    "    :param dataframe: 데이터 프레임\n",
    "    :param col: 문자열을 분리할 컬럼\n",
    "    :param split_str: 분리할 기준을 나타내는 문자\n",
    "    :return: 미완성 함수라 없음\n",
    "    \"\"\"\n",
    "    # 함수가 너무 많은 기능을 가지고 있음 분리 필요\n",
    "    # 리턴 값이 없음\n",
    "    dataframe[['group', 'member']] = dataframe[col].str.split(split_str, expand=True)\n",
    "    group_size = dataframe.groupby('group').size()\n",
    "    grouping_member = set(group_size[group_size > 1].index)\n",
    "    dataframe['solo'] = ~dataframe['group'].isin(grouping_member)\n",
    "    dataframe['group_size'] = dataframe['group'].map(group_size).fillna(0).astype(int)\n",
    "    dataframe.drop(col, axis=1, inplace=True)"
   ],
   "metadata": {
    "collapsed": false,
    "ExecuteTime": {
     "end_time": "2024-02-27T08:55:43.545122800Z",
     "start_time": "2024-02-27T08:55:43.516331100Z"
    }
   },
   "id": "f57d660f8e657d64",
   "execution_count": 364
  },
  {
   "cell_type": "markdown",
   "source": [
    "### **PassengerId 문자열 '/'기준으로 분리시키기**"
   ],
   "metadata": {
    "collapsed": false
   },
   "id": "40f613911f0ad626"
  },
  {
   "cell_type": "code",
   "outputs": [],
   "source": [
    "str_split_grouping(train, 'PassengerId', '_')\n",
    "str_split_grouping(test, 'PassengerId', '_')"
   ],
   "metadata": {
    "collapsed": false,
    "ExecuteTime": {
     "end_time": "2024-02-27T08:55:43.569122500Z",
     "start_time": "2024-02-27T08:55:43.518510400Z"
    }
   },
   "id": "48d7c357d42c9bcb",
   "execution_count": 365
  },
  {
   "cell_type": "code",
   "outputs": [],
   "source": [],
   "metadata": {
    "collapsed": false,
    "ExecuteTime": {
     "end_time": "2024-02-27T08:55:43.587122900Z",
     "start_time": "2024-02-27T08:55:43.539615100Z"
    }
   },
   "id": "f53050fe2c4c4abb",
   "execution_count": 365
  }
 ],
 "metadata": {
  "kernelspec": {
   "display_name": "Python 3",
   "language": "python",
   "name": "python3"
  },
  "language_info": {
   "codemirror_mode": {
    "name": "ipython",
    "version": 2
   },
   "file_extension": ".py",
   "mimetype": "text/x-python",
   "name": "python",
   "nbconvert_exporter": "python",
   "pygments_lexer": "ipython2",
   "version": "2.7.6"
  }
 },
 "nbformat": 4,
 "nbformat_minor": 5
}
